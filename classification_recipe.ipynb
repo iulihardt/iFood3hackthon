{
 "cells": [
  {
   "cell_type": "markdown",
   "metadata": {},
   "source": [
    "# iChef\n",
    "<img src=\"https://imgur.com/ij75Z2Z.png\" alt=\"logo\" border=\"0\">\n",
    "\n",
    "## Backend 3 Hackthon iFood\n",
    "\n",
    "### Carrega as Bibliotecas nescessarias"
   ]
  },
  {
   "cell_type": "code",
   "execution_count": 1,
   "metadata": {},
   "outputs": [],
   "source": [
    "import pandas as pd\n",
    "import numpy as np\n",
    "import json"
   ]
  },
  {
   "cell_type": "markdown",
   "metadata": {},
   "source": [
    "### Criar o banco de dados:\n",
    "\n",
    "Banco de dados de receitas, titulo, igredientes e como fazer\n",
    "<p>Fonte de dados:\n",
    "https://www.kaggle.com/paultimothymooney/recipenlg"
   ]
  },
  {
   "cell_type": "code",
   "execution_count": 6,
   "metadata": {},
   "outputs": [
    {
     "data": {
      "text/html": [
       "<div>\n",
       "<style scoped>\n",
       "    .dataframe tbody tr th:only-of-type {\n",
       "        vertical-align: middle;\n",
       "    }\n",
       "\n",
       "    .dataframe tbody tr th {\n",
       "        vertical-align: top;\n",
       "    }\n",
       "\n",
       "    .dataframe thead th {\n",
       "        text-align: right;\n",
       "    }\n",
       "</style>\n",
       "<table border=\"1\" class=\"dataframe\">\n",
       "  <thead>\n",
       "    <tr style=\"text-align: right;\">\n",
       "      <th></th>\n",
       "      <th>Unnamed: 0</th>\n",
       "      <th>title</th>\n",
       "      <th>ingredients</th>\n",
       "      <th>directions</th>\n",
       "      <th>link</th>\n",
       "      <th>source</th>\n",
       "      <th>NER</th>\n",
       "    </tr>\n",
       "  </thead>\n",
       "  <tbody>\n",
       "    <tr>\n",
       "      <th>41567</th>\n",
       "      <td>41567</td>\n",
       "      <td>Pain Francais(French Bread)</td>\n",
       "      <td>[\"1 1/4 c. warm water\", \"1 pkg. yeast\", \"1/2 T...</td>\n",
       "      <td>[\"Measure warm water into large mixing bowl; s...</td>\n",
       "      <td>www.cookbooks.com/Recipe-Details.aspx?id=434890</td>\n",
       "      <td>Gathered</td>\n",
       "      <td>[\"water\", \"yeast\", \"salt\", \"shortening\", \"flou...</td>\n",
       "    </tr>\n",
       "    <tr>\n",
       "      <th>1475530</th>\n",
       "      <td>1475530</td>\n",
       "      <td>Pear, Hazelnut, And Blue Cheese Salad</td>\n",
       "      <td>[\"1 cup whole hazelnuts in the skins\", \"8 cups...</td>\n",
       "      <td>[\"Place hazelnuts in an ungreased 15\\\" x 10\\\" ...</td>\n",
       "      <td>www.myrecipes.com/recipe/pear-hazelnut-blue-ch...</td>\n",
       "      <td>Gathered</td>\n",
       "      <td>[\"skins\", \"mixed salad greens\", \"Bartlett\", \"b...</td>\n",
       "    </tr>\n",
       "    <tr>\n",
       "      <th>1788785</th>\n",
       "      <td>1788785</td>\n",
       "      <td>Creamy Lemon Squares</td>\n",
       "      <td>[\"20 reduced-fat vanilla wafers, finely crushe...</td>\n",
       "      <td>[\"Heat oven to 350 degrees F.\", \"Line 8-inch s...</td>\n",
       "      <td>www.kraftrecipes.com/recipes/creamy-lemon-squa...</td>\n",
       "      <td>Recipes1M</td>\n",
       "      <td>[\"vanilla wafers\", \"flour\", \"brown sugar\", \"co...</td>\n",
       "    </tr>\n",
       "    <tr>\n",
       "      <th>789422</th>\n",
       "      <td>789422</td>\n",
       "      <td>Eggplant Cheese Bake</td>\n",
       "      <td>[\"1 1/4 lb. eggplant\", \"salt and pepper\", \"2 T...</td>\n",
       "      <td>[\"Remove stalks from eggplant and cut lengthwi...</td>\n",
       "      <td>www.cookbooks.com/Recipe-Details.aspx?id=950344</td>\n",
       "      <td>Gathered</td>\n",
       "      <td>[\"eggplant\", \"salt\", \"flour\", \"oil\", \"onion\", ...</td>\n",
       "    </tr>\n",
       "    <tr>\n",
       "      <th>325557</th>\n",
       "      <td>325557</td>\n",
       "      <td>Green Bean Casserole</td>\n",
       "      <td>[\"2 cans green beans or 1 qt. home canned\", \"1...</td>\n",
       "      <td>[\"Place beans, soup and seasoning in 2-quart c...</td>\n",
       "      <td>www.cookbooks.com/Recipe-Details.aspx?id=864410</td>\n",
       "      <td>Gathered</td>\n",
       "      <td>[\"green beans\", \"cream of celery soup\", \"onion...</td>\n",
       "    </tr>\n",
       "  </tbody>\n",
       "</table>\n",
       "</div>"
      ],
      "text/plain": [
       "         Unnamed: 0                                  title  \\\n",
       "41567         41567          Pain Francais(French Bread)     \n",
       "1475530     1475530  Pear, Hazelnut, And Blue Cheese Salad   \n",
       "1788785     1788785                   Creamy Lemon Squares   \n",
       "789422       789422                   Eggplant Cheese Bake   \n",
       "325557       325557                   Green Bean Casserole   \n",
       "\n",
       "                                               ingredients  \\\n",
       "41567    [\"1 1/4 c. warm water\", \"1 pkg. yeast\", \"1/2 T...   \n",
       "1475530  [\"1 cup whole hazelnuts in the skins\", \"8 cups...   \n",
       "1788785  [\"20 reduced-fat vanilla wafers, finely crushe...   \n",
       "789422   [\"1 1/4 lb. eggplant\", \"salt and pepper\", \"2 T...   \n",
       "325557   [\"2 cans green beans or 1 qt. home canned\", \"1...   \n",
       "\n",
       "                                                directions  \\\n",
       "41567    [\"Measure warm water into large mixing bowl; s...   \n",
       "1475530  [\"Place hazelnuts in an ungreased 15\\\" x 10\\\" ...   \n",
       "1788785  [\"Heat oven to 350 degrees F.\", \"Line 8-inch s...   \n",
       "789422   [\"Remove stalks from eggplant and cut lengthwi...   \n",
       "325557   [\"Place beans, soup and seasoning in 2-quart c...   \n",
       "\n",
       "                                                      link     source  \\\n",
       "41567      www.cookbooks.com/Recipe-Details.aspx?id=434890   Gathered   \n",
       "1475530  www.myrecipes.com/recipe/pear-hazelnut-blue-ch...   Gathered   \n",
       "1788785  www.kraftrecipes.com/recipes/creamy-lemon-squa...  Recipes1M   \n",
       "789422     www.cookbooks.com/Recipe-Details.aspx?id=950344   Gathered   \n",
       "325557     www.cookbooks.com/Recipe-Details.aspx?id=864410   Gathered   \n",
       "\n",
       "                                                       NER  \n",
       "41567    [\"water\", \"yeast\", \"salt\", \"shortening\", \"flou...  \n",
       "1475530  [\"skins\", \"mixed salad greens\", \"Bartlett\", \"b...  \n",
       "1788785  [\"vanilla wafers\", \"flour\", \"brown sugar\", \"co...  \n",
       "789422   [\"eggplant\", \"salt\", \"flour\", \"oil\", \"onion\", ...  \n",
       "325557   [\"green beans\", \"cream of celery soup\", \"onion...  "
      ]
     },
     "execution_count": 6,
     "metadata": {},
     "output_type": "execute_result"
    }
   ],
   "source": [
    "recipes = pd.read_csv('RecipeNLG_dataset.csv', encoding='utf8')\n",
    "recipes.sample(5)"
   ]
  },
  {
   "cell_type": "markdown",
   "metadata": {},
   "source": [
    "Segunda tabela do banco de dados\n",
    "<p>\n",
    "\n",
    "O objetivo deste codigo é criar uma lista de igredientes usados e um dicionarios com a relação Igrediente: [lista de ids de receitas que usam]"
   ]
  },
  {
   "cell_type": "code",
   "execution_count": 7,
   "metadata": {},
   "outputs": [],
   "source": [
    "dic_igredientes = {}\n",
    "lista_igredientes = [list]\n",
    "for i, row in recipes.iterrows():\n",
    "    for ingrediente in row['NER'].split(','):\n",
    "        ingrediente = ingrediente.replace('\"',\"\").replace('[','').replace(']','')\n",
    "        ingrediente = \" \".join(ingrediente.split())\n",
    "        lista_igredientes.append(ingrediente)\n",
    "        try:\n",
    "            dic_igredientes[ingrediente].append(i)\n",
    "        except KeyError:\n",
    "            dic_igredientes[ingrediente] = [i]\n",
    "        "
   ]
  },
  {
   "cell_type": "markdown",
   "metadata": {},
   "source": [
    "## API\n",
    "\n",
    "Codigo de API para retornar as 5 receitas que mais combinam com o cliente dado os igredientes que ele possui"
   ]
  },
  {
   "cell_type": "code",
   "execution_count": 8,
   "metadata": {},
   "outputs": [],
   "source": [
    "'''\n",
    "Iteligencia artificial de aprendizado de reforço\n",
    "-dado o dia da semana, o cluster do usuario, hora e a receita a ser comparada com o usuario\n",
    "etorna o quanto o usuario vai gostar dessa receita\n",
    "\n",
    "API np.random \n",
    "É uma tecnica importantissia baseada em varios dados como a semente aleatoria\n",
    "e deve ser substituida o mais rapido possivel na proxima fase do projeto.\n",
    "\n",
    "Quanto maior o valor, mais o cliente vai gostar da receita.\n",
    "\n",
    "\n",
    "'''\n",
    "def ml_reforcement(id_receita):\n",
    "    week_day = 5\n",
    "    user_cluster = 30\n",
    "    time = 1930\n",
    "\n",
    "    seed = week_day + user_cluster + time + id_receita\n",
    "\n",
    "    np.random.seed(seed=seed)\n",
    "\n",
    "    value = np.random.randint(0,100,1)\n",
    "\n",
    "    return value"
   ]
  },
  {
   "cell_type": "code",
   "execution_count": 9,
   "metadata": {},
   "outputs": [],
   "source": [
    "a = dic_igredientes['peanut butter']\n",
    "b = dic_igredientes['graham cracker crumbs']\n",
    "c = dic_igredientes['butter']\n",
    "d = dic_igredientes['powdered sugar']\n",
    "e = dic_igredientes['chocolate chips']\n",
    "#f = dic_igredientes['vanilla']\n",
    "#g = dic_igredientes['butter']\n",
    "\n",
    "receitas_possiveis = set.intersection(*[set(list) for list in [a,b,c,d,e]])\n",
    "\n",
    "receitas_finais = []\n",
    "for receita in receitas_possiveis:\n",
    "    if len(recipes['NER'][receita].replace('\"',\"\").replace('[','').replace(']','').split(',')) == len([a,b,c,d,e]):\n",
    "        receitas_finais.append(receita)\n",
    "\n",
    "\n",
    "retorno = {}\n",
    "indice = 0\n",
    "for receita in receitas_finais:\n",
    "\n",
    "    ml_points = ml_reforcement(receita)\n",
    "    indice= indice + 1\n",
    "\n",
    "    retorno[ml_points[0]]={\n",
    "        'id_recipe': receita,\n",
    "        'title':recipes['title'][receita],\n",
    "        'love': ml_points[0],\n",
    "        'directions':recipes['directions'][receita],\n",
    "        'directions':recipes['ingredients'][receita]\n",
    "    }\n",
    "\n",
    "\n",
    "retorno = pd.DataFrame.from_dict(retorno, orient='index').sort_index(ascending=False)\n",
    "result = retorno.head(5).to_json(orient=\"records\")\n",
    "result = json.loads(result)"
   ]
  },
  {
   "cell_type": "code",
   "execution_count": 11,
   "metadata": {},
   "outputs": [
    {
     "data": {
      "text/plain": [
       "[{'id_recipe': 532412,\n",
       "  'title': 'Peanut Butter Cups',\n",
       "  'love': 99,\n",
       "  'directions': '[\"1/3 lb. graham cracker crumbs\", \"1/2 lb. butter or margarine\", \"1 c. peanut butter\", \"1 lb. powdered sugar\", \"2 c. chocolate chips\"]'},\n",
       " {'id_recipe': 283487,\n",
       "  'title': \"Reese'S Peanut Butter Bars\",\n",
       "  'love': 98,\n",
       "  'directions': '[\"1 c. peanut butter\", \"1 c. butter or margarine\", \"1 box powdered sugar\", \"1 pkg. graham cracker crumbs (2 c.)\", \"12 oz. chocolate chips, melted\"]'},\n",
       " {'id_recipe': 1767379,\n",
       "  'title': 'Nelson Cookie Bake Peanut Butter Cup Bars',\n",
       "  'love': 97,\n",
       "  'directions': '[\"1 cup butter, melted\", \"1 cup peanut butter\", \"1 lb powdered sugar\", \"1 12 cups graham cracker crumbs (13 whole graham crackers = 1 1/2 cups graham cracker crumbs)\", \"1 12 cups chocolate chips\"]'},\n",
       " {'id_recipe': 1876937,\n",
       "  'title': \"Peanut Butter Bars Taste Like Reese's Cups\",\n",
       "  'love': 96,\n",
       "  'directions': '[\"4 cups powdered sugar\", \"1 14 cups melted butter\", \"1 cup peanut butter\", \"1 13 cups graham cracker crumbs\", \"12 ounces milk chocolate chips\"]'},\n",
       " {'id_recipe': 122066,\n",
       "  'title': 'Chocolate-Peanut Butter Bars',\n",
       "  'love': 94,\n",
       "  'directions': '[\"2 sticks melted butter\", \"1 box powdered sugar\", \"1 c. peanut butter\", \"1 1/2 c. graham cracker crumbs\", \"12 oz. chocolate chips\"]'}]"
      ]
     },
     "execution_count": 11,
     "metadata": {},
     "output_type": "execute_result"
    }
   ],
   "source": [
    "result"
   ]
  },
  {
   "cell_type": "markdown",
   "metadata": {},
   "source": [
    "### Equipe\n",
    "<table>\n",
    "  <tr>\n",
    "    <td align=\"center\"><a href=\"https://www.linkedin.com/in/kaianeluz/\"><img src=\"https://i.imgur.com/6qQQUaX.jpeg\" width=\"100px;\" alt=\"\"/><br /><sub>\n",
    "        <b> Kaiane Luanara C. F. Luz</b></sub></a><br />\n",
    "        <a href=\"https://www.linkedin.com/in/kaianeluz/\" title=\"Site\">💻</a> <a href=\"luzkaiane@gmail.com\"  title=\"Email\">📧</a> \n",
    "    </td>\n",
    "    <td align=\"center\"><a href=\"https://www.linkedin.com/in/barbosaamanda/\"><img src=\"https://i.imgur.com/ilyTmPQ_d.jpg\" width=\"100px;\" alt=\"\"/><br /><sub>\n",
    "        <b> Amanda Barbosa</b></sub></a><br />\n",
    "        <a href=\"https://www.linkedin.com/in/barbosaamanda/\" title=\"Site\">💻</a> <a href=\"amandahpereira@gmail.com\" title=\"Email\">📧</a> \n",
    "    </td>\n",
    "    <td align=\"center\"><a href=\"https://www.linkedin.com/in/devmatheusoliveira\"><img src=\"https://i.imgur.com/GS8Y6Vw_d.jpg\" width=\"100px;\" alt=\"\"/><br /><sub>\n",
    "        <b> Matheus Oliveira</b></sub></a><br />\n",
    "        <a href=\"https://www.github.com/devmatheusoliveira/\" title=\"Site\">💻</a> <a href=\"matheusoliveira.workmso@gmail.com\" title=\"Email\">📧</a> \n",
    "    </td>\n",
    "    <td align=\"center\"><a href=\"https://www.linkedin.com/in/debora-melo-gestao/ \"><img src=\"https://i.imgur.com/06nmBo6_d.jpg\" width=\"100px;\" alt=\"\"/><br /><sub>\n",
    "        <b> Débora Regianne M. Costa</b></sub></a><br />\n",
    "        <a href=\"https://www.linkedin.com/in/debora-melo-gestao/ \" title=\"Site\">💻</a> <a href=\"dregiannemelo@gmail.com \" title=\"Email\">📧</a> \n",
    "    </td>\n",
    "     <td align=\"center\"><a href=\"https://github.com/iulihardt/\"><img src=\"https://i.imgur.com/KNytPG4.png\" width=\"100px;\" alt=\"\"/><br /><sub>\n",
    "        <b> Iuli Hardt</b></sub></a><br />\n",
    "        <a href=\"https://www.linkedin.com/in/iuli-hardt-634190119/\" title=\"Site\">💻</a><a href=\"iulihardt@gmail.com\" title=\"Email\">📧</a>\n",
    "    </td>\n",
    "</table>"
   ]
  },
  {
   "cell_type": "code",
   "execution_count": null,
   "metadata": {},
   "outputs": [],
   "source": []
  }
 ],
 "metadata": {
  "interpreter": {
   "hash": "b3ba2566441a7c06988d0923437866b63cedc61552a5af99d1f4fb67d367b25f"
  },
  "kernelspec": {
   "display_name": "Python 3.9.7 64-bit ('base': conda)",
   "language": "python",
   "name": "python3"
  },
  "language_info": {
   "codemirror_mode": {
    "name": "ipython",
    "version": 3
   },
   "file_extension": ".py",
   "mimetype": "text/x-python",
   "name": "python",
   "nbconvert_exporter": "python",
   "pygments_lexer": "ipython3",
   "version": "3.9.7"
  },
  "orig_nbformat": 4
 },
 "nbformat": 4,
 "nbformat_minor": 2
}
